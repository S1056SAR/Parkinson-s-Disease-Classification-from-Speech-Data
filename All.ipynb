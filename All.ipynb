{
  "cells": [
    {
      "cell_type": "markdown",
      "metadata": {
        "id": "teHWOSEFvjo5"
      },
      "source": [
        "# Code\n",
        "---\n"
      ]
    },
    {
      "cell_type": "code",
      "execution_count": 5,
      "metadata": {
        "id": "4YD-ICPtvjo-"
      },
      "outputs": [],
      "source": [
        "from sklearn import preprocessing, neighbors, naive_bayes, neural_network, svm, tree\n",
        "from sklearn.metrics import confusion_matrix, roc_curve, auc\n",
        "from sklearn.model_selection import train_test_split, KFold, StratifiedKFold\n",
        "from sklearn.ensemble import AdaBoostClassifier, BaggingClassifier, VotingClassifier\n",
        "from sklearn.decomposition import PCA\n",
        "from numpy import interp\n",
        "import numpy as np\n",
        "import pandas as pd\n",
        "import matplotlib.pyplot as plt\n",
        "from tabulate import tabulate\n"
      ]
    },
    {
      "cell_type": "markdown",
      "metadata": {
        "id": "eLJf_PFyvjo9"
      },
      "source": [
        "# Imports"
      ]
    },
    {
      "cell_type": "markdown",
      "metadata": {
        "id": "spJH7c2Tvjo_"
      },
      "source": [
        "# Reading Data"
      ]
    },
    {
      "cell_type": "code",
      "execution_count": 30,
      "metadata": {
        "id": "qNDRPRv9vjo_"
      },
      "outputs": [],
      "source": [
        "df = pd.read_csv('pd_speech_features.txt')\n",
        "df.drop(['id'], axis=1, inplace=True)"
      ]
    },
    {
      "cell_type": "code",
      "execution_count": 31,
      "metadata": {
        "id": "aLK40k2qvjpA"
      },
      "outputs": [],
      "source": [
        "X = np.array(df.drop(['class'], axis=1))\n",
        "y = np.array(df['class'])"
      ]
    },
    {
      "cell_type": "markdown",
      "metadata": {
        "id": "BxKqE-u7vjpA"
      },
      "source": [
        "# Normalizing Data"
      ]
    },
    {
      "cell_type": "code",
      "execution_count": 10,
      "metadata": {
        "id": "FRynIKuLvjpA"
      },
      "outputs": [],
      "source": [
        "Z = np.divide((X - X.mean(0)), X.std(0))"
      ]
    },
    {
      "cell_type": "markdown",
      "metadata": {
        "id": "8fuR0MM4vjpB"
      },
      "source": [
        "# PCA"
      ]
    },
    {
      "cell_type": "code",
      "execution_count": 11,
      "metadata": {
        "id": "vIb5jEEfvjpB"
      },
      "outputs": [],
      "source": [
        "pca = PCA(n_components = 168)\n",
        "Z_PCA = pca.fit_transform(Z)"
      ]
    },
    {
      "cell_type": "code",
      "execution_count": 12,
      "metadata": {
        "colab": {
          "base_uri": "https://localhost:8080/",
          "height": 0
        },
        "id": "pLEJjli5vjpB",
        "outputId": "c1e29be3-f00b-4ea0-bfad-0d0192d2c084"
      },
      "outputs": [
        {
          "output_type": "stream",
          "name": "stdout",
          "text": [
            "(756, 168)\n"
          ]
        }
      ],
      "source": [
        "print(Z_PCA.shape)"
      ]
    },
    {
      "cell_type": "markdown",
      "metadata": {
        "id": "JYET0T5MvjpC"
      },
      "source": [
        "# Building the models"
      ]
    },
    {
      "cell_type": "code",
      "execution_count": 32,
      "metadata": {
        "id": "EKGZHW6PvjpC"
      },
      "outputs": [],
      "source": [
        "# KNN\n",
        "# knn1 = neighbors.KNeighborsClassifier(n_neighbors=7)\n",
        "knn = neighbors.KNeighborsClassifier(n_neighbors=5)\n",
        "\n",
        "# Naive Bayes\n",
        "gnb = naive_bayes.GaussianNB()\n",
        "gnb_bagging = BaggingClassifier(naive_bayes.GaussianNB(), max_samples = 0.5, max_features = 1.0, n_estimators = 20)\n",
        "\n",
        "# Support Vector Machine\n",
        "svmc = svm.SVC(kernel='linear', probability=True,\n",
        "                     random_state=1)\n",
        "\n",
        "# Neural Network\n",
        "nn = neural_network.MLPClassifier(\n",
        "                                     activation = 'logistic',\n",
        "                                    solver = 'sgd',\n",
        "                                    max_iter=3000,\n",
        "                                    learning_rate_init = 0.001,\n",
        "                                    momentum = 0.9,\n",
        "                                    epsilon = 1e-04,\n",
        "                                   hidden_layer_sizes = (200),\n",
        "                                   random_state = 42)\n",
        "# Decision Tree\n",
        "# Decision Tree\n",
        "dt = tree.DecisionTreeClassifier(random_state = 42)\n",
        "# Replace 'base_estimator' with 'estimator'\n",
        "dt_boost = AdaBoostClassifier(random_state = 42, estimator=tree.DecisionTreeClassifier(random_state = 42, max_depth=1), n_estimators= 100, learning_rate = 1)\n",
        "boost = AdaBoostClassifier(n_estimators= 100)\n",
        "vote = VotingClassifier(estimators=[('dt', dt_boost), ('knn', knn), ('nn', nn), ('gnb', gnb)],\n",
        "                          voting='soft', weights=[1, 1, 1, 1])\n"
      ]
    },
    {
      "cell_type": "markdown",
      "metadata": {
        "id": "Vd5xlPDxvjpC"
      },
      "source": [
        "# Testing using cross validation"
      ]
    },
    {
      "cell_type": "code",
      "execution_count": 33,
      "metadata": {
        "id": "oEO3lUWPvjpC"
      },
      "outputs": [],
      "source": [
        "from sklearn.model_selection import train_test_split, KFold, StratifiedKFold, cross_val_score, cross_val_predict # Add cross_val_score and cross_val_predict to the import statement\n",
        "\n",
        "model = knn\n",
        "scores = cross_val_score(model, Z, y, cv=5, scoring='accuracy')\n",
        "y_pred = cross_val_predict(model, Z, y, cv=5)\n",
        "\n",
        "acc = scores.mean()\n",
        "conf_mat = confusion_matrix(y, y_pred)"
      ]
    },
    {
      "cell_type": "code",
      "execution_count": 34,
      "metadata": {
        "colab": {
          "base_uri": "https://localhost:8080/"
        },
        "id": "IHHs-EOtvjpD",
        "outputId": "ccad2d26-9d68-4375-dfd1-7057e6d48564"
      },
      "outputs": [
        {
          "output_type": "stream",
          "name": "stdout",
          "text": [
            "0.813523875914953\n",
            "[[ 82 110]\n",
            " [ 31 533]]\n"
          ]
        }
      ],
      "source": [
        "print(acc)\n",
        "print(conf_mat)"
      ]
    },
    {
      "cell_type": "markdown",
      "metadata": {
        "id": "t91Zz7nevjpD"
      },
      "source": [
        "## Accuracy, ROC/AUC, and confuson matrix"
      ]
    },
    {
      "cell_type": "code",
      "execution_count": 35,
      "metadata": {
        "colab": {
          "base_uri": "https://localhost:8080/",
          "height": 472
        },
        "id": "qWvLVsXvvjpD",
        "outputId": "c38f5be5-a8d1-4ebb-cc93-8d92fb393a39"
      },
      "outputs": [
        {
          "output_type": "display_data",
          "data": {
            "text/plain": [
              "<Figure size 640x480 with 1 Axes>"
            ],
            "image/png": "[encoded data removed]"
          },
          "metadata": {}
        }
      ],
      "source": [
        "folds = 5\n",
        "cv = StratifiedKFold(n_splits=folds)\n",
        "\n",
        "# Classifiers:\n",
        "# Decision Tree: dt\n",
        "# Decision Tree (with boosting): dt_boost\n",
        "# MLP: nn\n",
        "# Gaussian Naive Bayes: gnb\n",
        "# KNN: knn\n",
        "\n",
        "classifier = nn\n",
        "inp = Z\n",
        "\n",
        "acc = np.zeros(folds)\n",
        "confm = np.zeros((2, 2))\n",
        "\n",
        "tprs = []\n",
        "aucs = []\n",
        "mean_fpr = np.linspace(0, 1, 100)\n",
        "\n",
        "i = 0\n",
        "for train, test in cv.split(inp, y):\n",
        "    probas_ = classifier.fit(inp[train], y[train]).predict_proba(inp[test])\n",
        "    # Compute accuracy\n",
        "    y_pred = classifier.predict(inp[test])\n",
        "    acc[i] = (y_pred == y[test]).mean()\n",
        "    # Confusion matrix\n",
        "    confm = confm + confusion_matrix(y[test], y_pred)\n",
        "    # Compute ROC curve and area the curve\n",
        "    fpr, tpr, thresholds = roc_curve(y[test], probas_[:, 1])\n",
        "    tprs.append(interp(mean_fpr, fpr, tpr))\n",
        "    tprs[-1][0] = 0.0\n",
        "    roc_auc = auc(fpr, tpr)\n",
        "    aucs.append(roc_auc)\n",
        "    plt.plot(fpr, tpr, lw=1, alpha=0.3,\n",
        "             label='ROC fold %d (AUC = %0.2f)' % (i, roc_auc))\n",
        "\n",
        "    i += 1\n",
        "plt.plot([0, 1], [0, 1], linestyle='--', lw=2, color='r',\n",
        "         label='Chance', alpha=.8)\n",
        "\n",
        "mean_tpr = np.mean(tprs, axis=0)\n",
        "mean_tpr[-1] = 1.0\n",
        "mean_auc = auc(mean_fpr, mean_tpr)\n",
        "std_auc = np.std(aucs)\n",
        "plt.plot(mean_fpr, mean_tpr, color='b',\n",
        "         label=r'Mean ROC (AUC = %0.2f $\\pm$ %0.2f)' % (mean_auc, std_auc),\n",
        "         lw=2, alpha=.8)\n",
        "\n",
        "std_tpr = np.std(tprs, axis=0)\n",
        "tprs_upper = np.minimum(mean_tpr + std_tpr, 1)\n",
        "tprs_lower = np.maximum(mean_tpr - std_tpr, 0)\n",
        "plt.fill_between(mean_fpr, tprs_lower, tprs_upper, color='grey', alpha=.2,\n",
        "                 label=r'$\\pm$ 1 std. dev.')\n",
        "\n",
        "plt.xlim([-0.05, 1.05])\n",
        "plt.ylim([-0.05, 1.05])\n",
        "plt.xlabel('False Positive Rate')\n",
        "plt.ylabel('True Positive Rate')\n",
        "plt.title('Receiver operating characteristic')\n",
        "plt.legend(loc=\"lower right\")\n",
        "plt.show()\n"
      ]
    },
    {
      "cell_type": "code",
      "execution_count": 37,
      "metadata": {
        "colab": {
          "base_uri": "https://localhost:8080/",
          "height": 36
        },
        "id": "MMQ7cCmKvjpD",
        "outputId": "b7d61f48-e0cb-484a-94b4-f0cbdf1b014f"
      },
      "outputs": [
        {
          "output_type": "execute_result",
          "data": {
            "text/plain": [
              "'80.96% +- 4.62%'"
            ],
            "application/vnd.google.colaboratory.intrinsic+json": {
              "type": "string"
            }
          },
          "metadata": {},
          "execution_count": 37
        }
      ],
      "source": [
        "'{:.2f}% +- {:.2f}%'.format(acc.mean() * 100, acc.std() * 100)"
      ]
    },
    {
      "cell_type": "code",
      "execution_count": 38,
      "metadata": {
        "id": "RDs8lQPfvjpD"
      },
      "outputs": [],
      "source": [
        "cm = np.zeros((3,3))"
      ]
    },
    {
      "cell_type": "code",
      "execution_count": 39,
      "metadata": {
        "id": "dDxZW5fwvjpE"
      },
      "outputs": [],
      "source": [
        "cm[0:2, 0:2] = confm\n",
        "cm[0,2] = (cm[0,0] / cm[0,0:2].sum())* 100\n",
        "cm[1,2] = (cm[1,1] / cm[1,0:2].sum())* 100\n",
        "cm[2,0] = (cm[0,0] / cm[0:2,0].sum())* 100\n",
        "cm[2,1] = (cm[1,1] / cm[0:2,1].sum())* 100"
      ]
    },
    {
      "cell_type": "code",
      "execution_count": 40,
      "metadata": {
        "colab": {
          "base_uri": "https://localhost:8080/",
          "height": 99
        },
        "id": "F0fusWMjvjpE",
        "outputId": "dc95af32-087d-411b-dc5c-7676d0cb2c3e"
      },
      "outputs": [
        {
          "output_type": "stream",
          "name": "stdout",
          "text": [
            "Requirement already satisfied: tabulate in /usr/local/lib/python3.10/dist-packages (0.9.0)\n"
          ]
        },
        {
          "output_type": "display_data",
          "data": {
            "text/plain": [
              "<IPython.core.display.HTML object>"
            ],
            "text/html": [
              "<table>\n",
              "<tbody>\n",
              "<tr><td style=\"text-align: right;\">106     </td><td style=\"text-align: right;\"> 86    </td><td style=\"text-align: right;\">55.2083</td></tr>\n",
              "<tr><td style=\"text-align: right;\"> 58     </td><td style=\"text-align: right;\">506    </td><td style=\"text-align: right;\">89.7163</td></tr>\n",
              "<tr><td style=\"text-align: right;\"> 64.6341</td><td style=\"text-align: right;\"> 85.473</td><td style=\"text-align: right;\"> 0     </td></tr>\n",
              "</tbody>\n",
              "</table>"
            ]
          },
          "metadata": {}
        }
      ],
      "source": [
        "!pip install tabulate\n",
        "from IPython.display import HTML # Import the HTML class from IPython.display\n",
        "from tabulate import tabulate\n",
        "display(HTML(tabulate(cm, tablefmt='html'))) # Call the tabulate function directly"
      ]
    },
    {
      "cell_type": "code",
      "execution_count": null,
      "metadata": {
        "id": "JNPePHYKvjpE"
      },
      "outputs": [],
      "source": []
    },
    {
      "cell_type": "code",
      "execution_count": null,
      "metadata": {
        "id": "_jZg2m85vjpE"
      },
      "outputs": [],
      "source": []
    },
    {
      "cell_type": "code",
      "execution_count": null,
      "metadata": {
        "id": "SDYqFvWKvjpE"
      },
      "outputs": [],
      "source": []
    }
  ],
  "metadata": {
    "kernelspec": {
      "display_name": "Python 3",
      "language": "python",
      "name": "python3"
    },
    "language_info": {
      "codemirror_mode": {
        "name": "ipython",
        "version": 3
      },
      "file_extension": ".py",
      "mimetype": "text/x-python",
      "name": "python",
      "nbconvert_exporter": "python",
      "pygments_lexer": "ipython3",
      "version": "3.7.0"
    },
    "colab": {
      "provenance": []
    }
  },
  "nbformat": 4,
  "nbformat_minor": 0
}